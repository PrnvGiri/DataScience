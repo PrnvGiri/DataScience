{
  "nbformat": 4,
  "nbformat_minor": 0,
  "metadata": {
    "colab": {
      "private_outputs": true,
      "provenance": []
    },
    "kernelspec": {
      "name": "python3",
      "display_name": "Python 3"
    },
    "language_info": {
      "name": "python"
    }
  },
  "cells": [
    {
      "cell_type": "code",
      "execution_count": null,
      "metadata": {
        "id": "6OeW_lCwAKJr"
      },
      "outputs": [],
      "source": [
        "# Import important libraries\n",
        "import tensorflow as tf\n",
        "from tensorflow import keras  # we have keras in tenserflow no need to import it sepreatly\n",
        "import matplotlib.pyplot as plt\n",
        "%matplotlib inline\n",
        "# Graphs will be in the notebook cell only (easy)\n",
        "# %matplotlib notebook  interactive graphs enabling zooming and panning within the notebook.\n",
        "import numpy as np"
      ]
    },
    {
      "cell_type": "code",
      "source": [
        "(X_train ,y_train), (X_test,y_test) = keras.datasets.mnist.load_data() # Builtin data set"
      ],
      "metadata": {
        "id": "5ZyEKqFrHjWg"
      },
      "execution_count": null,
      "outputs": []
    },
    {
      "cell_type": "code",
      "source": [
        "len(X_train)"
      ],
      "metadata": {
        "id": "vXkH508eKsaB"
      },
      "execution_count": null,
      "outputs": []
    },
    {
      "cell_type": "code",
      "source": [
        "len(X_test)"
      ],
      "metadata": {
        "id": "iax73ZkqKvOo"
      },
      "execution_count": null,
      "outputs": []
    },
    {
      "cell_type": "code",
      "source": [
        "X_train.shape # 28 by 28 pixel image"
      ],
      "metadata": {
        "id": "cUkAwObcKzrl"
      },
      "execution_count": null,
      "outputs": []
    },
    {
      "cell_type": "code",
      "source": [
        "# If you see the data it will in between 0(black) - 255(white)\n",
        "X_train[2]"
      ],
      "metadata": {
        "id": "z7f37jehLoit"
      },
      "execution_count": null,
      "outputs": []
    },
    {
      "cell_type": "code",
      "source": [
        "plt.matshow(X_train[2])"
      ],
      "metadata": {
        "id": "g0S3fGTSL1C5"
      },
      "execution_count": null,
      "outputs": []
    },
    {
      "cell_type": "code",
      "source": [
        "# If we check in y_train[2] -> the answer will be 4\n",
        "y_train[2]"
      ],
      "metadata": {
        "id": "TFU_m-duMU-M"
      },
      "execution_count": null,
      "outputs": []
    },
    {
      "cell_type": "code",
      "source": [
        "y_train[:5]"
      ],
      "metadata": {
        "id": "96vBdq0eMh1-"
      },
      "execution_count": null,
      "outputs": []
    },
    {
      "cell_type": "markdown",
      "source": [
        "* Transition to Dense Layers: Flattening converts multi-dimensional data (like images) to 1D, so it can be processed by Dense layers.\n",
        "\n",
        "* For Classification: Flattening prepares extracted features in a form suitable for making predictions.\n",
        "\n",
        "* Easier Data Manipulation: It simplifies high-dimensional data, making it easier for linear layers to handle.\n"
      ],
      "metadata": {
        "id": "51EzO8oTNGS6"
      }
    },
    {
      "cell_type": "code",
      "source": [
        "# We need to flatten the data (convert to the 1D)\n",
        "# .reshape()\n",
        "X_train_flattened = X_train.reshape(len(X_train),28*28)\n",
        "X_test_flattened = X_test.reshape(len(X_test),28*28)"
      ],
      "metadata": {
        "id": "FExwbs94MkY0"
      },
      "execution_count": null,
      "outputs": []
    },
    {
      "cell_type": "code",
      "source": [
        "X_train_flattened.shape"
      ],
      "metadata": {
        "id": "LqY-eQvlYWcv"
      },
      "execution_count": null,
      "outputs": []
    },
    {
      "cell_type": "code",
      "source": [
        "X_test_flattened.shape"
      ],
      "metadata": {
        "id": "8-q0mJjqYYIQ"
      },
      "execution_count": null,
      "outputs": []
    },
    {
      "cell_type": "code",
      "source": [
        "X_train_flattened[0]"
      ],
      "metadata": {
        "id": "E0eKtRYOYq1O"
      },
      "execution_count": null,
      "outputs": []
    },
    {
      "cell_type": "code",
      "source": [
        "# keras.Sequential([]) : to create the simple,step by step NNN model where each layer follow previous one\n",
        "model = keras.Sequential([\n",
        "    keras.layers.Dense(10,input_shape=(784,),activation = 'sigmoid')\n",
        "])\n",
        "# here layers.Dense -> Fully connected layer(dense). means each neuron is connected to every neuron in previous layer\n",
        "# (parameters: units = 10(number of neuron in each layer)) # Output : total 10 numbers\n",
        "# input_shape : input data to the layer\n",
        "# Activation function : 'Sigmoid'"
      ],
      "metadata": {
        "id": "NmpoeM1gYyjW"
      },
      "execution_count": null,
      "outputs": []
    },
    {
      "cell_type": "code",
      "source": [
        "# To create learning process for keras model with parameter\n",
        "# model.compile()\n",
        "# Parameters :\n",
        "# The optimizer controls how the model learns by adjusting the weights based on the loss.(Train efficiently)\n",
        "# (ADAM)Adaptive Moment Estimation.\n",
        "# The loss function measures how well the model's predictions match the true labels.\n",
        "# Metrics are used to evaluate the performance of the model during training and testing.\n",
        "model.compile(\n",
        "    optimizer = 'adam', # Automatically adjusts the learning rate during training, making it efficient and effective for many problems.\n",
        "    loss = 'sparse_categorical_crossentropy', #It is efficient for cases with multiple classes, especially when dealing with labels in integer form.\n",
        "    metrics = ['accuracy'] # metrics parameter tells me that this model should have good accuracy.\n",
        ")\n",
        "\n",
        "model.fit(X_train_flattened, y_train, epochs=5)  # Epoch - Number of iteration for which my nn is going to work\n",
        "# Mostly as time goes the accuracy increase"
      ],
      "metadata": {
        "id": "dgsVOcUQa5pr"
      },
      "execution_count": null,
      "outputs": []
    },
    {
      "cell_type": "markdown",
      "source": [
        "To increase the accuracy we can scale our data(in range of 0 and 1)"
      ],
      "metadata": {
        "id": "57wkbSirCR3d"
      }
    },
    {
      "cell_type": "code",
      "source": [
        "X_train = X_train/255\n",
        "X_test = X_test/255"
      ],
      "metadata": {
        "id": "Mb87pD-Src0N"
      },
      "execution_count": null,
      "outputs": []
    },
    {
      "cell_type": "code",
      "source": [
        "X_train_flattened = X_train.reshape(len(X_train),28*28)\n",
        "X_test_flattened = X_test.reshape(len(X_test),28*28)"
      ],
      "metadata": {
        "id": "sPo0F64WCjkD"
      },
      "execution_count": null,
      "outputs": []
    },
    {
      "cell_type": "code",
      "source": [
        "X_train_flattened[0] # Scaled data (0-1)"
      ],
      "metadata": {
        "id": "_DWIjW8sDrpG"
      },
      "execution_count": null,
      "outputs": []
    },
    {
      "cell_type": "code",
      "source": [
        "model = keras.Sequential([\n",
        "    keras.layers.Dense(10,input_shape=(784,),activation = 'sigmoid')\n",
        "])\n",
        "model.compile(\n",
        "    optimizer = 'adam',\n",
        "    loss = 'sparse_categorical_crossentropy',\n",
        "    metrics = ['accuracy']\n",
        ")\n",
        "\n",
        "model.fit(X_train_flattened, y_train, epochs=5)"
      ],
      "metadata": {
        "id": "fGz4KRn7DS3t"
      },
      "execution_count": null,
      "outputs": []
    },
    {
      "cell_type": "markdown",
      "source": [
        "If we notice now my model is slightly improved"
      ],
      "metadata": {
        "id": "Mukb51zCEj68"
      }
    },
    {
      "cell_type": "code",
      "source": [
        "# Lets do the same for testing data\n",
        "model.evaluate(X_test_flattened,y_test) # Evaluate is going to give you loss and metrics that we have passed above"
      ],
      "metadata": {
        "id": "Cn8fjlKqDd-1"
      },
      "execution_count": null,
      "outputs": []
    },
    {
      "cell_type": "code",
      "source": [
        "y_pred = model.predict(X_test_flattened)"
      ],
      "metadata": {
        "id": "ZerQzIDTFR-o"
      },
      "execution_count": null,
      "outputs": []
    },
    {
      "cell_type": "code",
      "source": [
        "plt.matshow(X_test[5])"
      ],
      "metadata": {
        "id": "kRG70e2mHrPy"
      },
      "execution_count": null,
      "outputs": []
    },
    {
      "cell_type": "code",
      "source": [
        "y_pred[5] # Here we are getting at first 1D array we are having all the scores that my Simple neural network has predicted"
      ],
      "metadata": {
        "id": "3vE5aWaJGblW"
      },
      "execution_count": null,
      "outputs": []
    },
    {
      "cell_type": "code",
      "source": [
        "# We will use numpy to check which one is having maxing value\n",
        "np.argmax(y_pred[5]) # Finds the maximum value and gives the index of it"
      ],
      "metadata": {
        "id": "sFQUw0b_F5wK"
      },
      "execution_count": null,
      "outputs": []
    },
    {
      "cell_type": "markdown",
      "source": [
        "Means that at 0 index my neural model is giving more wightage to 7 number"
      ],
      "metadata": {
        "id": "Y81P6xSPHTmd"
      }
    },
    {
      "cell_type": "code",
      "source": [
        "y_pred_label = [np.argmax(i) for i in y_pred]\n",
        "y_pred_label[:5]"
      ],
      "metadata": {
        "id": "sFYUgAZsHg4u"
      },
      "execution_count": null,
      "outputs": []
    },
    {
      "cell_type": "code",
      "source": [
        "y_test[:5]"
      ],
      "metadata": {
        "id": "z574Ow7zJ44T"
      },
      "execution_count": null,
      "outputs": []
    },
    {
      "cell_type": "code",
      "source": [
        "cm = tf.math.confusion_matrix(labels = y_test,predictions = y_pred_label)"
      ],
      "metadata": {
        "id": "VOqCBqh8Kfp7"
      },
      "execution_count": null,
      "outputs": []
    },
    {
      "cell_type": "code",
      "source": [
        "cm"
      ],
      "metadata": {
        "id": "1ntRX13vPj8O"
      },
      "execution_count": null,
      "outputs": []
    },
    {
      "cell_type": "code",
      "source": [
        "import seaborn as sns\n",
        "plt.figure(figsize = (10,7))\n",
        "sns.heatmap(cm,annot =True, fmt='d') # convert the annots into int value\n",
        "plt.xlabel('Predicted')\n",
        "plt.ylabel('Truth')"
      ],
      "metadata": {
        "id": "Bu7-VwM1PqpE"
      },
      "execution_count": null,
      "outputs": []
    },
    {
      "cell_type": "code",
      "source": [
        "model = keras.Sequential([\n",
        "    keras.layers.Dense(100,input_shape=(784,),activation = 'relu'),\n",
        "    keras.layers.Dense(10,activation = 'sigmoid')\n",
        "])\n",
        "model.compile(\n",
        "    optimizer = 'adam',\n",
        "    loss = 'sparse_categorical_crossentropy',\n",
        "    metrics = ['accuracy']\n",
        ")\n",
        "\n",
        "model.fit(X_train_flattened, y_train, epochs=5)"
      ],
      "metadata": {
        "id": "Z1G6JRxvG9Iq"
      },
      "execution_count": null,
      "outputs": []
    },
    {
      "cell_type": "code",
      "source": [
        "model.evaluate(X_test_flattened,y_test)"
      ],
      "metadata": {
        "id": "RvIzOBSjH_oE"
      },
      "execution_count": null,
      "outputs": []
    },
    {
      "cell_type": "code",
      "source": [
        "y_pred = model.predict(X_test_flattened)\n",
        "y_pred_label = [np.argmax(i) for i in y_pred]\n",
        "cm = tf.math.confusion_matrix(labels = y_test,predictions = y_pred_label)"
      ],
      "metadata": {
        "id": "YF_wiFMWIOBC"
      },
      "execution_count": null,
      "outputs": []
    },
    {
      "cell_type": "code",
      "source": [
        "plt.figure(figsize = (10,7))\n",
        "sns.heatmap(cm,annot =True, fmt='d') # convert the annots into int value\n",
        "plt.xlabel('Predicted')\n",
        "plt.ylabel('Truth')"
      ],
      "metadata": {
        "id": "w6BrsQr9I6zu"
      },
      "execution_count": null,
      "outputs": []
    },
    {
      "cell_type": "code",
      "source": [
        "# If you dont want to use flatten array\n",
        "model = keras.Sequential([\n",
        "    keras.layers.Flatten(input_shape =(28,28)), # whenever we give input shapes one, we dot need to write it again\n",
        "    keras.layers.Dense(100,activation = 'relu'),\n",
        "    keras.layers.Dense(10,activation = 'sigmoid')\n",
        "])\n",
        "model.compile(\n",
        "    optimizer = 'adam',\n",
        "    loss = 'sparse_categorical_crossentropy',\n",
        "    metrics = ['accuracy']\n",
        ")\n",
        "\n",
        "model.fit(X_train, y_train, epochs=5) # we pass x_train direct"
      ],
      "metadata": {
        "id": "24A4EjBjI9C8"
      },
      "execution_count": null,
      "outputs": []
    },
    {
      "cell_type": "code",
      "source": [],
      "metadata": {
        "id": "vSw7w4nNLteh"
      },
      "execution_count": null,
      "outputs": []
    }
  ]
}