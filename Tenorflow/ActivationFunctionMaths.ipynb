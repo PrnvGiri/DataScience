{
  "nbformat": 4,
  "nbformat_minor": 0,
  "metadata": {
    "colab": {
      "provenance": []
    },
    "kernelspec": {
      "name": "python3",
      "display_name": "Python 3"
    },
    "language_info": {
      "name": "python"
    }
  },
  "cells": [
    {
      "cell_type": "code",
      "execution_count": 1,
      "metadata": {
        "id": "i13HNGgaCpCL"
      },
      "outputs": [],
      "source": [
        "import math"
      ]
    },
    {
      "cell_type": "code",
      "source": [
        "# Convert the value between 0 to 1\n",
        "def sigmoid(x):\n",
        "  return 1/(1+math.exp(-x))"
      ],
      "metadata": {
        "id": "188AzrKMC0yl"
      },
      "execution_count": 2,
      "outputs": []
    },
    {
      "cell_type": "code",
      "source": [
        "# 1\n",
        "sigmoid(100)"
      ],
      "metadata": {
        "id": "Wvo_tFNKDFr9",
        "colab": {
          "base_uri": "https://localhost:8080/"
        },
        "outputId": "00989e30-eb78-4f8f-db53-0e54642029e2"
      },
      "execution_count": 3,
      "outputs": [
        {
          "output_type": "execute_result",
          "data": {
            "text/plain": [
              "1.0"
            ]
          },
          "metadata": {},
          "execution_count": 3
        }
      ]
    },
    {
      "cell_type": "code",
      "source": [
        "# btwn 0 - 1\n",
        "sigmoid(1)"
      ],
      "metadata": {
        "id": "s9r44pLlDHLb",
        "colab": {
          "base_uri": "https://localhost:8080/"
        },
        "outputId": "f56f4a6c-1598-4669-d325-9cbef472fcda"
      },
      "execution_count": 4,
      "outputs": [
        {
          "output_type": "execute_result",
          "data": {
            "text/plain": [
              "0.7310585786300049"
            ]
          },
          "metadata": {},
          "execution_count": 4
        }
      ]
    },
    {
      "cell_type": "code",
      "source": [
        "# Negative value will be close to zero(e)\n",
        "sigmoid(-56)"
      ],
      "metadata": {
        "id": "irAFQVwHDM9H",
        "colab": {
          "base_uri": "https://localhost:8080/"
        },
        "outputId": "4a538d0d-1231-4e3a-c693-0d986293cc71"
      },
      "execution_count": 5,
      "outputs": [
        {
          "output_type": "execute_result",
          "data": {
            "text/plain": [
              "4.780892883885469e-25"
            ]
          },
          "metadata": {},
          "execution_count": 5
        }
      ]
    },
    {
      "cell_type": "code",
      "source": [
        "# Tanh (hyperbolic Tangent) BTW -1 to 1\n",
        "def tanh(x):\n",
        "  return (math.exp(x) - math.exp(-x))/(math.exp(x) + math.exp(-x))"
      ],
      "metadata": {
        "id": "Xgsi3TLWDQHm"
      },
      "execution_count": 6,
      "outputs": []
    },
    {
      "cell_type": "code",
      "source": [
        "tanh(-56)"
      ],
      "metadata": {
        "id": "HCoPAiM_D_Sv",
        "colab": {
          "base_uri": "https://localhost:8080/"
        },
        "outputId": "5bd32600-4c92-49ca-efb9-6e87930101a9"
      },
      "execution_count": 7,
      "outputs": [
        {
          "output_type": "execute_result",
          "data": {
            "text/plain": [
              "-1.0"
            ]
          },
          "metadata": {},
          "execution_count": 7
        }
      ]
    },
    {
      "cell_type": "code",
      "source": [
        "tanh(50)"
      ],
      "metadata": {
        "id": "SfxVa6sWEF5G",
        "colab": {
          "base_uri": "https://localhost:8080/"
        },
        "outputId": "c9525c8a-3922-4b16-bdd7-702b196f82e4"
      },
      "execution_count": 8,
      "outputs": [
        {
          "output_type": "execute_result",
          "data": {
            "text/plain": [
              "1.0"
            ]
          },
          "metadata": {},
          "execution_count": 8
        }
      ]
    },
    {
      "cell_type": "code",
      "source": [
        "tanh(1)"
      ],
      "metadata": {
        "id": "YFKxnHdiEMQ5",
        "colab": {
          "base_uri": "https://localhost:8080/"
        },
        "outputId": "884b71f1-f9cc-441a-f85e-8ec3470f4a1a"
      },
      "execution_count": 9,
      "outputs": [
        {
          "output_type": "execute_result",
          "data": {
            "text/plain": [
              "0.7615941559557649"
            ]
          },
          "metadata": {},
          "execution_count": 9
        }
      ]
    },
    {
      "cell_type": "code",
      "source": [
        "# Value remains same for positive input\n",
        "# Value becomes zero(0) for negative input\n",
        "def relu(x):\n",
        "  return max(0,x)"
      ],
      "metadata": {
        "id": "ybDlSqGbEOZO"
      },
      "execution_count": 10,
      "outputs": []
    },
    {
      "cell_type": "code",
      "source": [
        "relu(-56)"
      ],
      "metadata": {
        "id": "d9x-q-A_EZDy",
        "colab": {
          "base_uri": "https://localhost:8080/"
        },
        "outputId": "26e049c5-24c5-4aaf-b0e2-dda8b55d70c0"
      },
      "execution_count": 11,
      "outputs": [
        {
          "output_type": "execute_result",
          "data": {
            "text/plain": [
              "0"
            ]
          },
          "metadata": {},
          "execution_count": 11
        }
      ]
    },
    {
      "cell_type": "code",
      "source": [
        "relu(-2)"
      ],
      "metadata": {
        "id": "_MQzPBnTEbXj",
        "colab": {
          "base_uri": "https://localhost:8080/"
        },
        "outputId": "fe35b803-0220-459d-8645-3c93b84e9bea"
      },
      "execution_count": 12,
      "outputs": [
        {
          "output_type": "execute_result",
          "data": {
            "text/plain": [
              "0"
            ]
          },
          "metadata": {},
          "execution_count": 12
        }
      ]
    },
    {
      "cell_type": "code",
      "source": [
        "relu(50)"
      ],
      "metadata": {
        "id": "QIUMqbdqEdlx",
        "colab": {
          "base_uri": "https://localhost:8080/"
        },
        "outputId": "d7007e63-0533-4b76-8f59-05e510cbf8af"
      },
      "execution_count": 13,
      "outputs": [
        {
          "output_type": "execute_result",
          "data": {
            "text/plain": [
              "50"
            ]
          },
          "metadata": {},
          "execution_count": 13
        }
      ]
    },
    {
      "cell_type": "code",
      "source": [
        "# leaky relu allows some negative values as well\n",
        "def leakyRelu(x):\n",
        "  return max(0.1*x,x)"
      ],
      "metadata": {
        "id": "OfA5c0EdEf96"
      },
      "execution_count": 14,
      "outputs": []
    },
    {
      "cell_type": "code",
      "source": [
        "leakyRelu(-50)"
      ],
      "metadata": {
        "id": "SH58gaw9E5j9",
        "colab": {
          "base_uri": "https://localhost:8080/"
        },
        "outputId": "3b0b32bc-21df-45e1-a2ff-4227319f7d90"
      },
      "execution_count": 15,
      "outputs": [
        {
          "output_type": "execute_result",
          "data": {
            "text/plain": [
              "-5.0"
            ]
          },
          "metadata": {},
          "execution_count": 15
        }
      ]
    },
    {
      "cell_type": "code",
      "source": [
        "leakyRelu(30)"
      ],
      "metadata": {
        "id": "_-5uDN1EE-uZ",
        "colab": {
          "base_uri": "https://localhost:8080/"
        },
        "outputId": "654490bc-a8c2-490f-8a0f-4b4a204eb840"
      },
      "execution_count": 16,
      "outputs": [
        {
          "output_type": "execute_result",
          "data": {
            "text/plain": [
              "30"
            ]
          },
          "metadata": {},
          "execution_count": 16
        }
      ]
    },
    {
      "cell_type": "code",
      "source": [
        "leakyRelu(-20)"
      ],
      "metadata": {
        "id": "uiyt_N-TFDDf",
        "colab": {
          "base_uri": "https://localhost:8080/"
        },
        "outputId": "09e479c4-324e-491a-d866-97b66618b90b"
      },
      "execution_count": 17,
      "outputs": [
        {
          "output_type": "execute_result",
          "data": {
            "text/plain": [
              "-2.0"
            ]
          },
          "metadata": {},
          "execution_count": 17
        }
      ]
    },
    {
      "cell_type": "code",
      "source": [],
      "metadata": {
        "id": "SGvrtN1XOa7x"
      },
      "execution_count": 17,
      "outputs": []
    }
  ]
}